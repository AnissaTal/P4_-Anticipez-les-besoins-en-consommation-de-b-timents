{
 "cells": [
  {
   "cell_type": "code",
   "execution_count": 1,
   "id": "2aedcdf5",
   "metadata": {},
   "outputs": [],
   "source": [
    "import pandas as pd\n",
    "import numpy as np\n",
    "import matplotlib.pyplot as plt\n",
    "import seaborn as sns"
   ]
  },
  {
   "cell_type": "code",
   "execution_count": 2,
   "id": "662a77c0",
   "metadata": {},
   "outputs": [],
   "source": [
    "df=pd.read_csv('Downloads/2016_Building_Energy_Benchmarking.csv')"
   ]
  },
  {
   "cell_type": "code",
   "execution_count": 3,
   "id": "9750f0b2",
   "metadata": {},
   "outputs": [
    {
     "data": {
      "text/plain": [
       "Index(['OSEBuildingID', 'DataYear', 'BuildingType', 'PrimaryPropertyType',\n",
       "       'PropertyName', 'Address', 'City', 'State', 'ZipCode',\n",
       "       'TaxParcelIdentificationNumber', 'CouncilDistrictCode', 'Neighborhood',\n",
       "       'Latitude', 'Longitude', 'YearBuilt', 'NumberofBuildings',\n",
       "       'NumberofFloors', 'PropertyGFATotal', 'PropertyGFAParking',\n",
       "       'PropertyGFABuilding(s)', 'ListOfAllPropertyUseTypes',\n",
       "       'LargestPropertyUseType', 'LargestPropertyUseTypeGFA',\n",
       "       'SecondLargestPropertyUseType', 'SecondLargestPropertyUseTypeGFA',\n",
       "       'ThirdLargestPropertyUseType', 'ThirdLargestPropertyUseTypeGFA',\n",
       "       'YearsENERGYSTARCertified', 'ENERGYSTARScore', 'SiteEUI(kBtu/sf)',\n",
       "       'SiteEUIWN(kBtu/sf)', 'SourceEUI(kBtu/sf)', 'SourceEUIWN(kBtu/sf)',\n",
       "       'SiteEnergyUse(kBtu)', 'SiteEnergyUseWN(kBtu)', 'SteamUse(kBtu)',\n",
       "       'Electricity(kWh)', 'Electricity(kBtu)', 'NaturalGas(therms)',\n",
       "       'NaturalGas(kBtu)', 'DefaultData', 'Comments', 'ComplianceStatus',\n",
       "       'Outlier', 'TotalGHGEmissions', 'GHGEmissionsIntensity'],\n",
       "      dtype='object')"
      ]
     },
     "execution_count": 3,
     "metadata": {},
     "output_type": "execute_result"
    }
   ],
   "source": [
    "df.columns"
   ]
  },
  {
   "cell_type": "code",
   "execution_count": 4,
   "id": "3265b46a",
   "metadata": {},
   "outputs": [],
   "source": [
    "#garder uniquement NonResidential,SPS-District K-12,Nonresidential COS,Campus,Nonresidential WA\n",
    "#selection avec isin\n",
    "nonResidences =['NonResidential','SPS-District K-12','Nonresidential COS','Campus','Nonresidential WA']\n",
    "df=df[df['BuildingType'].isin(nonResidences)]"
   ]
  },
  {
   "cell_type": "code",
   "execution_count": 5,
   "id": "ee9833a1",
   "metadata": {},
   "outputs": [],
   "source": [
    "#garder uniquement Compliant\n",
    "df=df[df['ComplianceStatus']=='Compliant']"
   ]
  },
  {
   "cell_type": "code",
   "execution_count": 6,
   "id": "76de92c3",
   "metadata": {},
   "outputs": [
    {
     "data": {
      "text/plain": [
       "Compliant    1548\n",
       "Name: ComplianceStatus, dtype: int64"
      ]
     },
     "execution_count": 6,
     "metadata": {},
     "output_type": "execute_result"
    }
   ],
   "source": [
    "df['ComplianceStatus'].value_counts()"
   ]
  },
  {
   "cell_type": "code",
   "execution_count": 7,
   "id": "ed0fc40e",
   "metadata": {},
   "outputs": [],
   "source": [
    "dfP4=df[[ 'NumberofFloors','NumberofBuildings','BuildingType', 'PrimaryPropertyType','Latitude', 'Longitude', 'YearBuilt', 'PropertyGFATotal', 'PropertyGFAParking',\n",
    "       'PropertyGFABuilding(s)','LargestPropertyUseType', 'LargestPropertyUseTypeGFA','SiteEnergyUseWN(kBtu)','TotalGHGEmissions', 'SteamUse(kBtu)','Electricity(kBtu)',\n",
    "       'NaturalGas(kBtu)']]"
   ]
  },
  {
   "cell_type": "code",
   "execution_count": 8,
   "id": "5d45e62f",
   "metadata": {},
   "outputs": [],
   "source": [
    "#Convertir les valeurs + en 1 et - en 0"
   ]
  },
  {
   "cell_type": "code",
   "execution_count": 9,
   "id": "7820861b",
   "metadata": {},
   "outputs": [],
   "source": [
    "#fct bi\n",
    "def binaire(val) :\n",
    "    if val >0 :\n",
    "        return 1\n",
    "    else :\n",
    "        return 0"
   ]
  },
  {
   "cell_type": "code",
   "execution_count": 10,
   "id": "9acd1e34",
   "metadata": {},
   "outputs": [
    {
     "name": "stderr",
     "output_type": "stream",
     "text": [
      "C:\\Users\\User\\AppData\\Local\\Temp\\ipykernel_13780\\1552152169.py:1: SettingWithCopyWarning: \n",
      "A value is trying to be set on a copy of a slice from a DataFrame.\n",
      "Try using .loc[row_indexer,col_indexer] = value instead\n",
      "\n",
      "See the caveats in the documentation: https://pandas.pydata.org/pandas-docs/stable/user_guide/indexing.html#returning-a-view-versus-a-copy\n",
      "  dfP4['Electricity(kBtu)'] = dfP4['Electricity(kBtu)'].apply(binaire)\n",
      "C:\\Users\\User\\AppData\\Local\\Temp\\ipykernel_13780\\1552152169.py:2: SettingWithCopyWarning: \n",
      "A value is trying to be set on a copy of a slice from a DataFrame.\n",
      "Try using .loc[row_indexer,col_indexer] = value instead\n",
      "\n",
      "See the caveats in the documentation: https://pandas.pydata.org/pandas-docs/stable/user_guide/indexing.html#returning-a-view-versus-a-copy\n",
      "  dfP4['NaturalGas(kBtu)'] = dfP4['NaturalGas(kBtu)'].apply(binaire)\n",
      "C:\\Users\\User\\AppData\\Local\\Temp\\ipykernel_13780\\1552152169.py:3: SettingWithCopyWarning: \n",
      "A value is trying to be set on a copy of a slice from a DataFrame.\n",
      "Try using .loc[row_indexer,col_indexer] = value instead\n",
      "\n",
      "See the caveats in the documentation: https://pandas.pydata.org/pandas-docs/stable/user_guide/indexing.html#returning-a-view-versus-a-copy\n",
      "  dfP4['SteamUse(kBtu)'] = dfP4['SteamUse(kBtu)'].apply(binaire)\n"
     ]
    }
   ],
   "source": [
    "dfP4['Electricity(kBtu)'] = dfP4['Electricity(kBtu)'].apply(binaire)\n",
    "dfP4['NaturalGas(kBtu)'] = dfP4['NaturalGas(kBtu)'].apply(binaire)\n",
    "dfP4['SteamUse(kBtu)'] = dfP4['SteamUse(kBtu)'].apply(binaire)"
   ]
  },
  {
   "cell_type": "code",
   "execution_count": 11,
   "id": "1aee7a19",
   "metadata": {},
   "outputs": [],
   "source": [
    "def dateGap(date):\n",
    "    if date >= 1900 and date < 1920 :\n",
    "        return '1900 - 1919'\n",
    "    elif date >= 1920 and date < 1940 :\n",
    "        return '1920 - 1939'\n",
    "    elif date >= 1940 and date < 1960 :\n",
    "        return '1940 - 1959'\n",
    "    elif date >= 1960 and date < 1980 :\n",
    "        return '1960 - 1979'\n",
    "    elif date >= 1980 and date < 2000 :\n",
    "        return '1980 - 1999'\n",
    "    elif date >= 2000 and date < 2020 :\n",
    "        return '2000 - 2019'\n",
    "    \n",
    "    else :\n",
    "        return 'autre'\n",
    "    "
   ]
  },
  {
   "cell_type": "code",
   "execution_count": 12,
   "id": "973f5251",
   "metadata": {},
   "outputs": [
    {
     "name": "stderr",
     "output_type": "stream",
     "text": [
      "C:\\Users\\User\\AppData\\Local\\Temp\\ipykernel_13780\\3746716949.py:1: SettingWithCopyWarning: \n",
      "A value is trying to be set on a copy of a slice from a DataFrame.\n",
      "Try using .loc[row_indexer,col_indexer] = value instead\n",
      "\n",
      "See the caveats in the documentation: https://pandas.pydata.org/pandas-docs/stable/user_guide/indexing.html#returning-a-view-versus-a-copy\n",
      "  dfP4['YearBuilt'] = dfP4['YearBuilt'].apply(dateGap)\n"
     ]
    }
   ],
   "source": [
    "dfP4['YearBuilt'] = dfP4['YearBuilt'].apply(dateGap)"
   ]
  },
  {
   "cell_type": "code",
   "execution_count": 13,
   "id": "46eb23ff",
   "metadata": {},
   "outputs": [],
   "source": [
    "dfP4ENERGY=dfP4[[ 'NumberofFloors','NumberofBuildings','BuildingType', 'PrimaryPropertyType','Latitude', 'Longitude', 'YearBuilt', 'PropertyGFATotal', 'PropertyGFAParking',\n",
    "       'PropertyGFABuilding(s)','LargestPropertyUseType', 'LargestPropertyUseTypeGFA','SiteEnergyUseWN(kBtu)', 'SteamUse(kBtu)','Electricity(kBtu)',\n",
    "       'NaturalGas(kBtu)']]"
   ]
  },
  {
   "cell_type": "code",
   "execution_count": 14,
   "id": "d522403f",
   "metadata": {},
   "outputs": [],
   "source": [
    "dfP4CO2=dfP4[[ 'NumberofFloors','NumberofBuildings','BuildingType', 'PrimaryPropertyType','Latitude', 'Longitude', 'YearBuilt', 'PropertyGFATotal', 'PropertyGFAParking',\n",
    "       'PropertyGFABuilding(s)','LargestPropertyUseType', 'LargestPropertyUseTypeGFA','TotalGHGEmissions', 'SteamUse(kBtu)','Electricity(kBtu)',\n",
    "       'NaturalGas(kBtu)']]"
   ]
  },
  {
   "cell_type": "markdown",
   "id": "88d804f0",
   "metadata": {},
   "source": [
    "### Traitement des Outliers"
   ]
  },
  {
   "cell_type": "markdown",
   "id": "4566cac3",
   "metadata": {},
   "source": [
    "### ENERGIE"
   ]
  },
  {
   "cell_type": "code",
   "execution_count": 15,
   "id": "71eb9394",
   "metadata": {},
   "outputs": [
    {
     "data": {
      "text/html": [
       "<div>\n",
       "<style scoped>\n",
       "    .dataframe tbody tr th:only-of-type {\n",
       "        vertical-align: middle;\n",
       "    }\n",
       "\n",
       "    .dataframe tbody tr th {\n",
       "        vertical-align: top;\n",
       "    }\n",
       "\n",
       "    .dataframe thead th {\n",
       "        text-align: right;\n",
       "    }\n",
       "</style>\n",
       "<table border=\"1\" class=\"dataframe\">\n",
       "  <thead>\n",
       "    <tr style=\"text-align: right;\">\n",
       "      <th></th>\n",
       "      <th>NumberofFloors</th>\n",
       "      <th>NumberofBuildings</th>\n",
       "      <th>BuildingType</th>\n",
       "      <th>PrimaryPropertyType</th>\n",
       "      <th>Latitude</th>\n",
       "      <th>Longitude</th>\n",
       "      <th>YearBuilt</th>\n",
       "      <th>PropertyGFATotal</th>\n",
       "      <th>PropertyGFAParking</th>\n",
       "      <th>PropertyGFABuilding(s)</th>\n",
       "      <th>LargestPropertyUseType</th>\n",
       "      <th>LargestPropertyUseTypeGFA</th>\n",
       "      <th>SiteEnergyUseWN(kBtu)</th>\n",
       "      <th>SteamUse(kBtu)</th>\n",
       "      <th>Electricity(kBtu)</th>\n",
       "      <th>NaturalGas(kBtu)</th>\n",
       "    </tr>\n",
       "  </thead>\n",
       "  <tbody>\n",
       "    <tr>\n",
       "      <th>0</th>\n",
       "      <td>12</td>\n",
       "      <td>1.0</td>\n",
       "      <td>NonResidential</td>\n",
       "      <td>Hotel</td>\n",
       "      <td>47.61220</td>\n",
       "      <td>-122.33799</td>\n",
       "      <td>1920 - 1939</td>\n",
       "      <td>88434</td>\n",
       "      <td>0</td>\n",
       "      <td>88434</td>\n",
       "      <td>Hotel</td>\n",
       "      <td>88434.0</td>\n",
       "      <td>7456910.0</td>\n",
       "      <td>1</td>\n",
       "      <td>1</td>\n",
       "      <td>1</td>\n",
       "    </tr>\n",
       "    <tr>\n",
       "      <th>1</th>\n",
       "      <td>11</td>\n",
       "      <td>1.0</td>\n",
       "      <td>NonResidential</td>\n",
       "      <td>Hotel</td>\n",
       "      <td>47.61317</td>\n",
       "      <td>-122.33393</td>\n",
       "      <td>1980 - 1999</td>\n",
       "      <td>103566</td>\n",
       "      <td>15064</td>\n",
       "      <td>88502</td>\n",
       "      <td>Hotel</td>\n",
       "      <td>83880.0</td>\n",
       "      <td>8664479.0</td>\n",
       "      <td>0</td>\n",
       "      <td>1</td>\n",
       "      <td>1</td>\n",
       "    </tr>\n",
       "    <tr>\n",
       "      <th>2</th>\n",
       "      <td>41</td>\n",
       "      <td>1.0</td>\n",
       "      <td>NonResidential</td>\n",
       "      <td>Hotel</td>\n",
       "      <td>47.61393</td>\n",
       "      <td>-122.33810</td>\n",
       "      <td>1960 - 1979</td>\n",
       "      <td>956110</td>\n",
       "      <td>196718</td>\n",
       "      <td>759392</td>\n",
       "      <td>Hotel</td>\n",
       "      <td>756493.0</td>\n",
       "      <td>73937112.0</td>\n",
       "      <td>1</td>\n",
       "      <td>1</td>\n",
       "      <td>1</td>\n",
       "    </tr>\n",
       "    <tr>\n",
       "      <th>3</th>\n",
       "      <td>10</td>\n",
       "      <td>1.0</td>\n",
       "      <td>NonResidential</td>\n",
       "      <td>Hotel</td>\n",
       "      <td>47.61412</td>\n",
       "      <td>-122.33664</td>\n",
       "      <td>1920 - 1939</td>\n",
       "      <td>61320</td>\n",
       "      <td>0</td>\n",
       "      <td>61320</td>\n",
       "      <td>Hotel</td>\n",
       "      <td>61320.0</td>\n",
       "      <td>6946800.5</td>\n",
       "      <td>1</td>\n",
       "      <td>1</td>\n",
       "      <td>1</td>\n",
       "    </tr>\n",
       "    <tr>\n",
       "      <th>4</th>\n",
       "      <td>18</td>\n",
       "      <td>1.0</td>\n",
       "      <td>NonResidential</td>\n",
       "      <td>Hotel</td>\n",
       "      <td>47.61375</td>\n",
       "      <td>-122.34047</td>\n",
       "      <td>1980 - 1999</td>\n",
       "      <td>175580</td>\n",
       "      <td>62000</td>\n",
       "      <td>113580</td>\n",
       "      <td>Hotel</td>\n",
       "      <td>123445.0</td>\n",
       "      <td>14656503.0</td>\n",
       "      <td>0</td>\n",
       "      <td>1</td>\n",
       "      <td>1</td>\n",
       "    </tr>\n",
       "  </tbody>\n",
       "</table>\n",
       "</div>"
      ],
      "text/plain": [
       "   NumberofFloors  NumberofBuildings    BuildingType PrimaryPropertyType  \\\n",
       "0              12                1.0  NonResidential               Hotel   \n",
       "1              11                1.0  NonResidential               Hotel   \n",
       "2              41                1.0  NonResidential               Hotel   \n",
       "3              10                1.0  NonResidential               Hotel   \n",
       "4              18                1.0  NonResidential               Hotel   \n",
       "\n",
       "   Latitude  Longitude    YearBuilt  PropertyGFATotal  PropertyGFAParking  \\\n",
       "0  47.61220 -122.33799  1920 - 1939             88434                   0   \n",
       "1  47.61317 -122.33393  1980 - 1999            103566               15064   \n",
       "2  47.61393 -122.33810  1960 - 1979            956110              196718   \n",
       "3  47.61412 -122.33664  1920 - 1939             61320                   0   \n",
       "4  47.61375 -122.34047  1980 - 1999            175580               62000   \n",
       "\n",
       "   PropertyGFABuilding(s) LargestPropertyUseType  LargestPropertyUseTypeGFA  \\\n",
       "0                   88434                  Hotel                    88434.0   \n",
       "1                   88502                  Hotel                    83880.0   \n",
       "2                  759392                  Hotel                   756493.0   \n",
       "3                   61320                  Hotel                    61320.0   \n",
       "4                  113580                  Hotel                   123445.0   \n",
       "\n",
       "   SiteEnergyUseWN(kBtu)  SteamUse(kBtu)  Electricity(kBtu)  NaturalGas(kBtu)  \n",
       "0              7456910.0               1                  1                 1  \n",
       "1              8664479.0               0                  1                 1  \n",
       "2             73937112.0               1                  1                 1  \n",
       "3              6946800.5               1                  1                 1  \n",
       "4             14656503.0               0                  1                 1  "
      ]
     },
     "execution_count": 15,
     "metadata": {},
     "output_type": "execute_result"
    }
   ],
   "source": [
    "dfP4ENERGY.head()"
   ]
  },
  {
   "cell_type": "code",
   "execution_count": 16,
   "id": "81915241",
   "metadata": {},
   "outputs": [
    {
     "data": {
      "text/plain": [
       "<AxesSubplot:xlabel='BuildingType', ylabel='SiteEnergyUseWN(kBtu)'>"
      ]
     },
     "execution_count": 16,
     "metadata": {},
     "output_type": "execute_result"
    },
    {
     "data": {
      "image/png": "[encoded data removed]",
      "text/plain": [
       "<Figure size 640x480 with 1 Axes>"
      ]
     },
     "metadata": {},
     "output_type": "display_data"
    }
   ],
   "source": [
    "sns.boxplot(data=dfP4ENERGY, y='SiteEnergyUseWN(kBtu)',x='BuildingType')"
   ]
  },
  {
   "cell_type": "code",
   "execution_count": 17,
   "id": "e73da822",
   "metadata": {},
   "outputs": [
    {
     "data": {
      "text/plain": [
       "35      471613856.0\n",
       "170     296671744.0\n",
       "618     295929888.0\n",
       "558     274725984.0\n",
       "124     257764208.0\n",
       "3264    167207104.0\n",
       "167     147299056.0\n",
       "340     137106112.0\n",
       "1494    123205560.0\n",
       "1690    103985264.0\n",
       "Name: SiteEnergyUseWN(kBtu), dtype: float64"
      ]
     },
     "execution_count": 17,
     "metadata": {},
     "output_type": "execute_result"
    }
   ],
   "source": [
    "dfP4ENERGY['SiteEnergyUseWN(kBtu)'].sort_values(ascending=False)[:10]"
   ]
  },
  {
   "cell_type": "code",
   "execution_count": 18,
   "id": "139359c0",
   "metadata": {},
   "outputs": [
    {
     "data": {
      "text/plain": [
       "(1548, 16)"
      ]
     },
     "execution_count": 18,
     "metadata": {},
     "output_type": "execute_result"
    }
   ],
   "source": [
    "dfP4ENERGY.shape"
   ]
  },
  {
   "cell_type": "code",
   "execution_count": 19,
   "id": "c257c188",
   "metadata": {},
   "outputs": [],
   "source": [
    "# suppression  de 5/1548 \n",
    "dfP4ENERGY =dfP4ENERGY.loc[dfP4ENERGY['SiteEnergyUseWN(kBtu)'] < 257764208.0,: ]   "
   ]
  },
  {
   "cell_type": "code",
   "execution_count": 20,
   "id": "fa19c62c",
   "metadata": {},
   "outputs": [
    {
     "data": {
      "text/plain": [
       "(1542, 16)"
      ]
     },
     "execution_count": 20,
     "metadata": {},
     "output_type": "execute_result"
    }
   ],
   "source": [
    "dfP4ENERGY.shape"
   ]
  },
  {
   "cell_type": "code",
   "execution_count": 21,
   "id": "9ea8cb28",
   "metadata": {},
   "outputs": [
    {
     "data": {
      "text/plain": [
       "<AxesSubplot:xlabel='BuildingType', ylabel='SiteEnergyUseWN(kBtu)'>"
      ]
     },
     "execution_count": 21,
     "metadata": {},
     "output_type": "execute_result"
    },
    {
     "data": {
      "image/png": "[encoded data removed]",
      "text/plain": [
       "<Figure size 640x480 with 1 Axes>"
      ]
     },
     "metadata": {},
     "output_type": "display_data"
    }
   ],
   "source": [
    "sns.boxplot(data=dfP4ENERGY, y='SiteEnergyUseWN(kBtu)',x='BuildingType')"
   ]
  },
  {
   "cell_type": "code",
   "execution_count": 22,
   "id": "f2762718",
   "metadata": {},
   "outputs": [
    {
     "data": {
      "text/plain": [
       "NumberofFloors               0\n",
       "NumberofBuildings            0\n",
       "BuildingType                 0\n",
       "PrimaryPropertyType          0\n",
       "Latitude                     0\n",
       "Longitude                    0\n",
       "YearBuilt                    0\n",
       "PropertyGFATotal             0\n",
       "PropertyGFAParking           0\n",
       "PropertyGFABuilding(s)       0\n",
       "LargestPropertyUseType       4\n",
       "LargestPropertyUseTypeGFA    4\n",
       "SiteEnergyUseWN(kBtu)        0\n",
       "SteamUse(kBtu)               0\n",
       "Electricity(kBtu)            0\n",
       "NaturalGas(kBtu)             0\n",
       "dtype: int64"
      ]
     },
     "execution_count": 22,
     "metadata": {},
     "output_type": "execute_result"
    }
   ],
   "source": [
    "dfP4ENERGY.isnull().sum()"
   ]
  },
  {
   "cell_type": "code",
   "execution_count": 23,
   "id": "76a8bb41",
   "metadata": {},
   "outputs": [],
   "source": [
    "dfP4ENERGY.dropna(axis=0, inplace=True)"
   ]
  },
  {
   "cell_type": "code",
   "execution_count": 24,
   "id": "c428d68e",
   "metadata": {
    "scrolled": true
   },
   "outputs": [
    {
     "data": {
      "text/plain": [
       "NumberofFloors               0\n",
       "NumberofBuildings            0\n",
       "BuildingType                 0\n",
       "PrimaryPropertyType          0\n",
       "Latitude                     0\n",
       "Longitude                    0\n",
       "YearBuilt                    0\n",
       "PropertyGFATotal             0\n",
       "PropertyGFAParking           0\n",
       "PropertyGFABuilding(s)       0\n",
       "LargestPropertyUseType       0\n",
       "LargestPropertyUseTypeGFA    0\n",
       "SiteEnergyUseWN(kBtu)        0\n",
       "SteamUse(kBtu)               0\n",
       "Electricity(kBtu)            0\n",
       "NaturalGas(kBtu)             0\n",
       "dtype: int64"
      ]
     },
     "execution_count": 24,
     "metadata": {},
     "output_type": "execute_result"
    }
   ],
   "source": [
    "dfP4ENERGY.isnull().sum()"
   ]
  },
  {
   "cell_type": "code",
   "execution_count": 25,
   "id": "e39c8682",
   "metadata": {},
   "outputs": [],
   "source": [
    "dfP4ENERGY.to_csv('P4ENERGY.csv', index=False)\n"
   ]
  },
  {
   "cell_type": "markdown",
   "id": "b179c3ed",
   "metadata": {},
   "source": [
    "### CO2"
   ]
  },
  {
   "cell_type": "code",
   "execution_count": 26,
   "id": "83952499",
   "metadata": {},
   "outputs": [
    {
     "data": {
      "text/html": [
       "<div>\n",
       "<style scoped>\n",
       "    .dataframe tbody tr th:only-of-type {\n",
       "        vertical-align: middle;\n",
       "    }\n",
       "\n",
       "    .dataframe tbody tr th {\n",
       "        vertical-align: top;\n",
       "    }\n",
       "\n",
       "    .dataframe thead th {\n",
       "        text-align: right;\n",
       "    }\n",
       "</style>\n",
       "<table border=\"1\" class=\"dataframe\">\n",
       "  <thead>\n",
       "    <tr style=\"text-align: right;\">\n",
       "      <th></th>\n",
       "      <th>NumberofFloors</th>\n",
       "      <th>NumberofBuildings</th>\n",
       "      <th>BuildingType</th>\n",
       "      <th>PrimaryPropertyType</th>\n",
       "      <th>Latitude</th>\n",
       "      <th>Longitude</th>\n",
       "      <th>YearBuilt</th>\n",
       "      <th>PropertyGFATotal</th>\n",
       "      <th>PropertyGFAParking</th>\n",
       "      <th>PropertyGFABuilding(s)</th>\n",
       "      <th>LargestPropertyUseType</th>\n",
       "      <th>LargestPropertyUseTypeGFA</th>\n",
       "      <th>TotalGHGEmissions</th>\n",
       "      <th>SteamUse(kBtu)</th>\n",
       "      <th>Electricity(kBtu)</th>\n",
       "      <th>NaturalGas(kBtu)</th>\n",
       "    </tr>\n",
       "  </thead>\n",
       "  <tbody>\n",
       "    <tr>\n",
       "      <th>0</th>\n",
       "      <td>12</td>\n",
       "      <td>1.0</td>\n",
       "      <td>NonResidential</td>\n",
       "      <td>Hotel</td>\n",
       "      <td>47.61220</td>\n",
       "      <td>-122.33799</td>\n",
       "      <td>1920 - 1939</td>\n",
       "      <td>88434</td>\n",
       "      <td>0</td>\n",
       "      <td>88434</td>\n",
       "      <td>Hotel</td>\n",
       "      <td>88434.0</td>\n",
       "      <td>249.98</td>\n",
       "      <td>1</td>\n",
       "      <td>1</td>\n",
       "      <td>1</td>\n",
       "    </tr>\n",
       "    <tr>\n",
       "      <th>1</th>\n",
       "      <td>11</td>\n",
       "      <td>1.0</td>\n",
       "      <td>NonResidential</td>\n",
       "      <td>Hotel</td>\n",
       "      <td>47.61317</td>\n",
       "      <td>-122.33393</td>\n",
       "      <td>1980 - 1999</td>\n",
       "      <td>103566</td>\n",
       "      <td>15064</td>\n",
       "      <td>88502</td>\n",
       "      <td>Hotel</td>\n",
       "      <td>83880.0</td>\n",
       "      <td>295.86</td>\n",
       "      <td>0</td>\n",
       "      <td>1</td>\n",
       "      <td>1</td>\n",
       "    </tr>\n",
       "    <tr>\n",
       "      <th>2</th>\n",
       "      <td>41</td>\n",
       "      <td>1.0</td>\n",
       "      <td>NonResidential</td>\n",
       "      <td>Hotel</td>\n",
       "      <td>47.61393</td>\n",
       "      <td>-122.33810</td>\n",
       "      <td>1960 - 1979</td>\n",
       "      <td>956110</td>\n",
       "      <td>196718</td>\n",
       "      <td>759392</td>\n",
       "      <td>Hotel</td>\n",
       "      <td>756493.0</td>\n",
       "      <td>2089.28</td>\n",
       "      <td>1</td>\n",
       "      <td>1</td>\n",
       "      <td>1</td>\n",
       "    </tr>\n",
       "    <tr>\n",
       "      <th>3</th>\n",
       "      <td>10</td>\n",
       "      <td>1.0</td>\n",
       "      <td>NonResidential</td>\n",
       "      <td>Hotel</td>\n",
       "      <td>47.61412</td>\n",
       "      <td>-122.33664</td>\n",
       "      <td>1920 - 1939</td>\n",
       "      <td>61320</td>\n",
       "      <td>0</td>\n",
       "      <td>61320</td>\n",
       "      <td>Hotel</td>\n",
       "      <td>61320.0</td>\n",
       "      <td>286.43</td>\n",
       "      <td>1</td>\n",
       "      <td>1</td>\n",
       "      <td>1</td>\n",
       "    </tr>\n",
       "    <tr>\n",
       "      <th>4</th>\n",
       "      <td>18</td>\n",
       "      <td>1.0</td>\n",
       "      <td>NonResidential</td>\n",
       "      <td>Hotel</td>\n",
       "      <td>47.61375</td>\n",
       "      <td>-122.34047</td>\n",
       "      <td>1980 - 1999</td>\n",
       "      <td>175580</td>\n",
       "      <td>62000</td>\n",
       "      <td>113580</td>\n",
       "      <td>Hotel</td>\n",
       "      <td>123445.0</td>\n",
       "      <td>505.01</td>\n",
       "      <td>0</td>\n",
       "      <td>1</td>\n",
       "      <td>1</td>\n",
       "    </tr>\n",
       "  </tbody>\n",
       "</table>\n",
       "</div>"
      ],
      "text/plain": [
       "   NumberofFloors  NumberofBuildings    BuildingType PrimaryPropertyType  \\\n",
       "0              12                1.0  NonResidential               Hotel   \n",
       "1              11                1.0  NonResidential               Hotel   \n",
       "2              41                1.0  NonResidential               Hotel   \n",
       "3              10                1.0  NonResidential               Hotel   \n",
       "4              18                1.0  NonResidential               Hotel   \n",
       "\n",
       "   Latitude  Longitude    YearBuilt  PropertyGFATotal  PropertyGFAParking  \\\n",
       "0  47.61220 -122.33799  1920 - 1939             88434                   0   \n",
       "1  47.61317 -122.33393  1980 - 1999            103566               15064   \n",
       "2  47.61393 -122.33810  1960 - 1979            956110              196718   \n",
       "3  47.61412 -122.33664  1920 - 1939             61320                   0   \n",
       "4  47.61375 -122.34047  1980 - 1999            175580               62000   \n",
       "\n",
       "   PropertyGFABuilding(s) LargestPropertyUseType  LargestPropertyUseTypeGFA  \\\n",
       "0                   88434                  Hotel                    88434.0   \n",
       "1                   88502                  Hotel                    83880.0   \n",
       "2                  759392                  Hotel                   756493.0   \n",
       "3                   61320                  Hotel                    61320.0   \n",
       "4                  113580                  Hotel                   123445.0   \n",
       "\n",
       "   TotalGHGEmissions  SteamUse(kBtu)  Electricity(kBtu)  NaturalGas(kBtu)  \n",
       "0             249.98               1                  1                 1  \n",
       "1             295.86               0                  1                 1  \n",
       "2            2089.28               1                  1                 1  \n",
       "3             286.43               1                  1                 1  \n",
       "4             505.01               0                  1                 1  "
      ]
     },
     "execution_count": 26,
     "metadata": {},
     "output_type": "execute_result"
    }
   ],
   "source": [
    "dfP4CO2.head()  "
   ]
  },
  {
   "cell_type": "code",
   "execution_count": 27,
   "id": "22ecee2b",
   "metadata": {},
   "outputs": [
    {
     "data": {
      "text/plain": [
       "<AxesSubplot:xlabel='BuildingType', ylabel='TotalGHGEmissions'>"
      ]
     },
     "execution_count": 27,
     "metadata": {},
     "output_type": "execute_result"
    },
    {
     "data": {
      "image/png": "[encoded data removed]",
      "text/plain": [
       "<Figure size 640x480 with 1 Axes>"
      ]
     },
     "metadata": {},
     "output_type": "display_data"
    }
   ],
   "source": [
    "sns.boxplot(data=dfP4CO2, y='TotalGHGEmissions',x='BuildingType')"
   ]
  },
  {
   "cell_type": "code",
   "execution_count": 28,
   "id": "bb15779c",
   "metadata": {},
   "outputs": [
    {
     "data": {
      "text/plain": [
       "35      16870.98\n",
       "618     12307.16\n",
       "3274    11140.56\n",
       "170     10734.57\n",
       "124      8145.52\n",
       "3264     6330.91\n",
       "167      4906.33\n",
       "340      3995.45\n",
       "2325     3768.66\n",
       "1672     3278.11\n",
       "Name: TotalGHGEmissions, dtype: float64"
      ]
     },
     "execution_count": 28,
     "metadata": {},
     "output_type": "execute_result"
    }
   ],
   "source": [
    "dfP4CO2['TotalGHGEmissions'].sort_values(ascending=False)[:10]"
   ]
  },
  {
   "cell_type": "code",
   "execution_count": 29,
   "id": "1b74b3a7",
   "metadata": {},
   "outputs": [],
   "source": [
    "dfP4CO2 =dfP4CO2.loc[dfP4CO2['TotalGHGEmissions'] < 10000.0,: ]   "
   ]
  },
  {
   "cell_type": "code",
   "execution_count": 30,
   "id": "b8e4c24e",
   "metadata": {},
   "outputs": [
    {
     "data": {
      "text/plain": [
       "<AxesSubplot:xlabel='BuildingType', ylabel='TotalGHGEmissions'>"
      ]
     },
     "execution_count": 30,
     "metadata": {},
     "output_type": "execute_result"
    },
    {
     "data": {
      "image/png": "[encoded data removed]",
      "text/plain": [
       "<Figure size 640x480 with 1 Axes>"
      ]
     },
     "metadata": {},
     "output_type": "display_data"
    }
   ],
   "source": [
    "sns.boxplot(data=dfP4CO2, y='TotalGHGEmissions',x='BuildingType')"
   ]
  },
  {
   "cell_type": "code",
   "execution_count": 31,
   "id": "7d45a0c5",
   "metadata": {},
   "outputs": [
    {
     "data": {
      "text/plain": [
       "NumberofFloors               0\n",
       "NumberofBuildings            0\n",
       "BuildingType                 0\n",
       "PrimaryPropertyType          0\n",
       "Latitude                     0\n",
       "Longitude                    0\n",
       "YearBuilt                    0\n",
       "PropertyGFATotal             0\n",
       "PropertyGFAParking           0\n",
       "PropertyGFABuilding(s)       0\n",
       "LargestPropertyUseType       4\n",
       "LargestPropertyUseTypeGFA    4\n",
       "TotalGHGEmissions            0\n",
       "SteamUse(kBtu)               0\n",
       "Electricity(kBtu)            0\n",
       "NaturalGas(kBtu)             0\n",
       "dtype: int64"
      ]
     },
     "execution_count": 31,
     "metadata": {},
     "output_type": "execute_result"
    }
   ],
   "source": [
    "dfP4CO2.isnull().sum()"
   ]
  },
  {
   "cell_type": "code",
   "execution_count": 32,
   "id": "23272c0b",
   "metadata": {},
   "outputs": [],
   "source": [
    "dfP4CO2.dropna(axis=0, inplace=True)"
   ]
  },
  {
   "cell_type": "code",
   "execution_count": 33,
   "id": "7c67ebf6",
   "metadata": {},
   "outputs": [
    {
     "data": {
      "text/plain": [
       "NumberofFloors               0\n",
       "NumberofBuildings            0\n",
       "BuildingType                 0\n",
       "PrimaryPropertyType          0\n",
       "Latitude                     0\n",
       "Longitude                    0\n",
       "YearBuilt                    0\n",
       "PropertyGFATotal             0\n",
       "PropertyGFAParking           0\n",
       "PropertyGFABuilding(s)       0\n",
       "LargestPropertyUseType       0\n",
       "LargestPropertyUseTypeGFA    0\n",
       "TotalGHGEmissions            0\n",
       "SteamUse(kBtu)               0\n",
       "Electricity(kBtu)            0\n",
       "NaturalGas(kBtu)             0\n",
       "dtype: int64"
      ]
     },
     "execution_count": 33,
     "metadata": {},
     "output_type": "execute_result"
    }
   ],
   "source": [
    "dfP4CO2.isnull().sum()"
   ]
  },
  {
   "cell_type": "code",
   "execution_count": 34,
   "id": "94228a14",
   "metadata": {},
   "outputs": [],
   "source": [
    "dfP4CO2.to_csv('P4CO2.csv', index=False)\n"
   ]
  },
  {
   "cell_type": "markdown",
   "id": "d0a7adfe",
   "metadata": {},
   "source": [
    "### ENERGY_STARSCORE"
   ]
  },
  {
   "cell_type": "code",
   "execution_count": 35,
   "id": "de9a2f7c",
   "metadata": {},
   "outputs": [],
   "source": [
    "dfP4STAR=df[[ 'NumberofFloors','NumberofBuildings','BuildingType', 'PrimaryPropertyType','Latitude', 'Longitude', 'YearBuilt', 'PropertyGFATotal', 'PropertyGFAParking',\n",
    "       'PropertyGFABuilding(s)','LargestPropertyUseType', 'LargestPropertyUseTypeGFA','SiteEnergyUseWN(kBtu)','TotalGHGEmissions', 'SteamUse(kBtu)','Electricity(kBtu)',\n",
    "       'NaturalGas(kBtu)','ENERGYSTARScore']]"
   ]
  },
  {
   "cell_type": "code",
   "execution_count": 36,
   "id": "70c376de",
   "metadata": {},
   "outputs": [
    {
     "name": "stderr",
     "output_type": "stream",
     "text": [
      "C:\\Users\\User\\AppData\\Local\\Temp\\ipykernel_13780\\2790527910.py:1: SettingWithCopyWarning: \n",
      "A value is trying to be set on a copy of a slice from a DataFrame.\n",
      "Try using .loc[row_indexer,col_indexer] = value instead\n",
      "\n",
      "See the caveats in the documentation: https://pandas.pydata.org/pandas-docs/stable/user_guide/indexing.html#returning-a-view-versus-a-copy\n",
      "  dfP4STAR['Electricity(kBtu)'] = dfP4STAR['Electricity(kBtu)'].apply(binaire)\n",
      "C:\\Users\\User\\AppData\\Local\\Temp\\ipykernel_13780\\2790527910.py:2: SettingWithCopyWarning: \n",
      "A value is trying to be set on a copy of a slice from a DataFrame.\n",
      "Try using .loc[row_indexer,col_indexer] = value instead\n",
      "\n",
      "See the caveats in the documentation: https://pandas.pydata.org/pandas-docs/stable/user_guide/indexing.html#returning-a-view-versus-a-copy\n",
      "  dfP4STAR['NaturalGas(kBtu)'] = dfP4STAR['NaturalGas(kBtu)'].apply(binaire)\n",
      "C:\\Users\\User\\AppData\\Local\\Temp\\ipykernel_13780\\2790527910.py:3: SettingWithCopyWarning: \n",
      "A value is trying to be set on a copy of a slice from a DataFrame.\n",
      "Try using .loc[row_indexer,col_indexer] = value instead\n",
      "\n",
      "See the caveats in the documentation: https://pandas.pydata.org/pandas-docs/stable/user_guide/indexing.html#returning-a-view-versus-a-copy\n",
      "  dfP4STAR['SteamUse(kBtu)'] = dfP4STAR['SteamUse(kBtu)'].apply(binaire)\n"
     ]
    }
   ],
   "source": [
    "dfP4STAR['Electricity(kBtu)'] = dfP4STAR['Electricity(kBtu)'].apply(binaire)\n",
    "dfP4STAR['NaturalGas(kBtu)'] = dfP4STAR['NaturalGas(kBtu)'].apply(binaire)\n",
    "dfP4STAR['SteamUse(kBtu)'] = dfP4STAR['SteamUse(kBtu)'].apply(binaire)"
   ]
  },
  {
   "cell_type": "code",
   "execution_count": 37,
   "id": "b92ca314",
   "metadata": {},
   "outputs": [
    {
     "name": "stderr",
     "output_type": "stream",
     "text": [
      "C:\\Users\\User\\AppData\\Local\\Temp\\ipykernel_13780\\2899875716.py:1: SettingWithCopyWarning: \n",
      "A value is trying to be set on a copy of a slice from a DataFrame.\n",
      "Try using .loc[row_indexer,col_indexer] = value instead\n",
      "\n",
      "See the caveats in the documentation: https://pandas.pydata.org/pandas-docs/stable/user_guide/indexing.html#returning-a-view-versus-a-copy\n",
      "  dfP4STAR['YearBuilt'] = dfP4STAR['YearBuilt'].apply(dateGap)\n"
     ]
    }
   ],
   "source": [
    "dfP4STAR['YearBuilt'] = dfP4STAR['YearBuilt'].apply(dateGap)"
   ]
  },
  {
   "cell_type": "code",
   "execution_count": 38,
   "id": "63a2c58e",
   "metadata": {},
   "outputs": [],
   "source": [
    "dfP4ENERGYSTAR=dfP4STAR[[ 'NumberofFloors','NumberofBuildings','BuildingType', 'PrimaryPropertyType','Latitude', 'Longitude', 'YearBuilt', 'PropertyGFATotal', 'PropertyGFAParking',\n",
    "       'PropertyGFABuilding(s)','LargestPropertyUseType', 'LargestPropertyUseTypeGFA','SiteEnergyUseWN(kBtu)', 'SteamUse(kBtu)','Electricity(kBtu)',\n",
    "       'NaturalGas(kBtu)','ENERGYSTARScore']]"
   ]
  },
  {
   "cell_type": "code",
   "execution_count": 39,
   "id": "24dc3a69",
   "metadata": {},
   "outputs": [
    {
     "data": {
      "text/plain": [
       "<AxesSubplot:xlabel='BuildingType', ylabel='SiteEnergyUseWN(kBtu)'>"
      ]
     },
     "execution_count": 39,
     "metadata": {},
     "output_type": "execute_result"
    },
    {
     "data": {
      "image/png": "[encoded data removed]",
      "text/plain": [
       "<Figure size 640x480 with 1 Axes>"
      ]
     },
     "metadata": {},
     "output_type": "display_data"
    }
   ],
   "source": [
    "sns.boxplot(data=dfP4ENERGYSTAR, y='SiteEnergyUseWN(kBtu)',x='BuildingType')"
   ]
  },
  {
   "cell_type": "code",
   "execution_count": 40,
   "id": "86e67976",
   "metadata": {},
   "outputs": [],
   "source": [
    "dfP4ENERGYSTAR =dfP4ENERGYSTAR.loc[dfP4ENERGYSTAR['SiteEnergyUseWN(kBtu)'] < 257764208.0,: ]   "
   ]
  },
  {
   "cell_type": "code",
   "execution_count": 41,
   "id": "9a8d0bac",
   "metadata": {},
   "outputs": [
    {
     "data": {
      "text/plain": [
       "(1542, 17)"
      ]
     },
     "execution_count": 41,
     "metadata": {},
     "output_type": "execute_result"
    }
   ],
   "source": [
    "dfP4ENERGYSTAR.shape"
   ]
  },
  {
   "cell_type": "code",
   "execution_count": 42,
   "id": "592bc06c",
   "metadata": {},
   "outputs": [
    {
     "data": {
      "text/plain": [
       "NumberofFloors                 0\n",
       "NumberofBuildings              0\n",
       "BuildingType                   0\n",
       "PrimaryPropertyType            0\n",
       "Latitude                       0\n",
       "Longitude                      0\n",
       "YearBuilt                      0\n",
       "PropertyGFATotal               0\n",
       "PropertyGFAParking             0\n",
       "PropertyGFABuilding(s)         0\n",
       "LargestPropertyUseType         4\n",
       "LargestPropertyUseTypeGFA      4\n",
       "SiteEnergyUseWN(kBtu)          0\n",
       "SteamUse(kBtu)                 0\n",
       "Electricity(kBtu)              0\n",
       "NaturalGas(kBtu)               0\n",
       "ENERGYSTARScore              551\n",
       "dtype: int64"
      ]
     },
     "execution_count": 42,
     "metadata": {},
     "output_type": "execute_result"
    }
   ],
   "source": [
    "dfP4ENERGYSTAR.isnull().sum()"
   ]
  },
  {
   "cell_type": "code",
   "execution_count": 43,
   "id": "47b8f965",
   "metadata": {},
   "outputs": [],
   "source": [
    "dfP4ENERGYSTAR.dropna(axis=0, inplace=True)"
   ]
  },
  {
   "cell_type": "code",
   "execution_count": 44,
   "id": "aa8aa636",
   "metadata": {},
   "outputs": [
    {
     "data": {
      "text/plain": [
       "(989, 17)"
      ]
     },
     "execution_count": 44,
     "metadata": {},
     "output_type": "execute_result"
    }
   ],
   "source": [
    "dfP4ENERGYSTAR.shape"
   ]
  },
  {
   "cell_type": "code",
   "execution_count": 45,
   "id": "5a98bf57",
   "metadata": {},
   "outputs": [],
   "source": [
    "dfP4ENERGYSTAR.to_csv('P4ENERGYSTARSCORE.csv', index=False)\n"
   ]
  },
  {
   "cell_type": "markdown",
   "id": "8501ccdc",
   "metadata": {},
   "source": [
    "### EnergyStar Score --"
   ]
  },
  {
   "cell_type": "code",
   "execution_count": 53,
   "id": "ced5e0b7",
   "metadata": {},
   "outputs": [
    {
     "data": {
      "text/html": [
       "<div>\n",
       "<style scoped>\n",
       "    .dataframe tbody tr th:only-of-type {\n",
       "        vertical-align: middle;\n",
       "    }\n",
       "\n",
       "    .dataframe tbody tr th {\n",
       "        vertical-align: top;\n",
       "    }\n",
       "\n",
       "    .dataframe thead th {\n",
       "        text-align: right;\n",
       "    }\n",
       "</style>\n",
       "<table border=\"1\" class=\"dataframe\">\n",
       "  <thead>\n",
       "    <tr style=\"text-align: right;\">\n",
       "      <th></th>\n",
       "      <th>NumberofFloors</th>\n",
       "      <th>NumberofBuildings</th>\n",
       "      <th>BuildingType</th>\n",
       "      <th>PrimaryPropertyType</th>\n",
       "      <th>Latitude</th>\n",
       "      <th>Longitude</th>\n",
       "      <th>YearBuilt</th>\n",
       "      <th>PropertyGFATotal</th>\n",
       "      <th>PropertyGFAParking</th>\n",
       "      <th>PropertyGFABuilding(s)</th>\n",
       "      <th>LargestPropertyUseType</th>\n",
       "      <th>LargestPropertyUseTypeGFA</th>\n",
       "      <th>SiteEnergyUseWN(kBtu)</th>\n",
       "      <th>SteamUse(kBtu)</th>\n",
       "      <th>Electricity(kBtu)</th>\n",
       "      <th>NaturalGas(kBtu)</th>\n",
       "    </tr>\n",
       "  </thead>\n",
       "  <tbody>\n",
       "    <tr>\n",
       "      <th>0</th>\n",
       "      <td>12</td>\n",
       "      <td>1.0</td>\n",
       "      <td>NonResidential</td>\n",
       "      <td>Hotel</td>\n",
       "      <td>47.61220</td>\n",
       "      <td>-122.33799</td>\n",
       "      <td>1920 - 1939</td>\n",
       "      <td>88434</td>\n",
       "      <td>0</td>\n",
       "      <td>88434</td>\n",
       "      <td>Hotel</td>\n",
       "      <td>88434.0</td>\n",
       "      <td>7.456910e+06</td>\n",
       "      <td>1</td>\n",
       "      <td>1</td>\n",
       "      <td>1</td>\n",
       "    </tr>\n",
       "    <tr>\n",
       "      <th>1</th>\n",
       "      <td>11</td>\n",
       "      <td>1.0</td>\n",
       "      <td>NonResidential</td>\n",
       "      <td>Hotel</td>\n",
       "      <td>47.61317</td>\n",
       "      <td>-122.33393</td>\n",
       "      <td>1980 - 1999</td>\n",
       "      <td>103566</td>\n",
       "      <td>15064</td>\n",
       "      <td>88502</td>\n",
       "      <td>Hotel</td>\n",
       "      <td>83880.0</td>\n",
       "      <td>8.664479e+06</td>\n",
       "      <td>0</td>\n",
       "      <td>1</td>\n",
       "      <td>1</td>\n",
       "    </tr>\n",
       "    <tr>\n",
       "      <th>2</th>\n",
       "      <td>41</td>\n",
       "      <td>1.0</td>\n",
       "      <td>NonResidential</td>\n",
       "      <td>Hotel</td>\n",
       "      <td>47.61393</td>\n",
       "      <td>-122.33810</td>\n",
       "      <td>1960 - 1979</td>\n",
       "      <td>956110</td>\n",
       "      <td>196718</td>\n",
       "      <td>759392</td>\n",
       "      <td>Hotel</td>\n",
       "      <td>756493.0</td>\n",
       "      <td>7.393711e+07</td>\n",
       "      <td>1</td>\n",
       "      <td>1</td>\n",
       "      <td>1</td>\n",
       "    </tr>\n",
       "    <tr>\n",
       "      <th>3</th>\n",
       "      <td>10</td>\n",
       "      <td>1.0</td>\n",
       "      <td>NonResidential</td>\n",
       "      <td>Hotel</td>\n",
       "      <td>47.61412</td>\n",
       "      <td>-122.33664</td>\n",
       "      <td>1920 - 1939</td>\n",
       "      <td>61320</td>\n",
       "      <td>0</td>\n",
       "      <td>61320</td>\n",
       "      <td>Hotel</td>\n",
       "      <td>61320.0</td>\n",
       "      <td>6.946800e+06</td>\n",
       "      <td>1</td>\n",
       "      <td>1</td>\n",
       "      <td>1</td>\n",
       "    </tr>\n",
       "    <tr>\n",
       "      <th>4</th>\n",
       "      <td>18</td>\n",
       "      <td>1.0</td>\n",
       "      <td>NonResidential</td>\n",
       "      <td>Hotel</td>\n",
       "      <td>47.61375</td>\n",
       "      <td>-122.34047</td>\n",
       "      <td>1980 - 1999</td>\n",
       "      <td>175580</td>\n",
       "      <td>62000</td>\n",
       "      <td>113580</td>\n",
       "      <td>Hotel</td>\n",
       "      <td>123445.0</td>\n",
       "      <td>1.465650e+07</td>\n",
       "      <td>0</td>\n",
       "      <td>1</td>\n",
       "      <td>1</td>\n",
       "    </tr>\n",
       "    <tr>\n",
       "      <th>...</th>\n",
       "      <td>...</td>\n",
       "      <td>...</td>\n",
       "      <td>...</td>\n",
       "      <td>...</td>\n",
       "      <td>...</td>\n",
       "      <td>...</td>\n",
       "      <td>...</td>\n",
       "      <td>...</td>\n",
       "      <td>...</td>\n",
       "      <td>...</td>\n",
       "      <td>...</td>\n",
       "      <td>...</td>\n",
       "      <td>...</td>\n",
       "      <td>...</td>\n",
       "      <td>...</td>\n",
       "      <td>...</td>\n",
       "    </tr>\n",
       "    <tr>\n",
       "      <th>3329</th>\n",
       "      <td>13</td>\n",
       "      <td>1.0</td>\n",
       "      <td>Nonresidential COS</td>\n",
       "      <td>Large Office</td>\n",
       "      <td>47.62251</td>\n",
       "      <td>-122.33390</td>\n",
       "      <td>2000 - 2019</td>\n",
       "      <td>536697</td>\n",
       "      <td>197659</td>\n",
       "      <td>339038</td>\n",
       "      <td>Office</td>\n",
       "      <td>342838.0</td>\n",
       "      <td>1.403717e+07</td>\n",
       "      <td>0</td>\n",
       "      <td>1</td>\n",
       "      <td>1</td>\n",
       "    </tr>\n",
       "    <tr>\n",
       "      <th>3337</th>\n",
       "      <td>4</td>\n",
       "      <td>1.0</td>\n",
       "      <td>NonResidential</td>\n",
       "      <td>Hotel</td>\n",
       "      <td>47.65476</td>\n",
       "      <td>-122.34732</td>\n",
       "      <td>2000 - 2019</td>\n",
       "      <td>126823</td>\n",
       "      <td>41539</td>\n",
       "      <td>85284</td>\n",
       "      <td>Hotel</td>\n",
       "      <td>88157.0</td>\n",
       "      <td>6.042400e+06</td>\n",
       "      <td>0</td>\n",
       "      <td>1</td>\n",
       "      <td>1</td>\n",
       "    </tr>\n",
       "    <tr>\n",
       "      <th>3338</th>\n",
       "      <td>1</td>\n",
       "      <td>1.0</td>\n",
       "      <td>NonResidential</td>\n",
       "      <td>Warehouse</td>\n",
       "      <td>47.54425</td>\n",
       "      <td>-122.31776</td>\n",
       "      <td>1940 - 1959</td>\n",
       "      <td>52085</td>\n",
       "      <td>4222</td>\n",
       "      <td>47863</td>\n",
       "      <td>Non-Refrigerated Warehouse</td>\n",
       "      <td>52085.0</td>\n",
       "      <td>4.182622e+06</td>\n",
       "      <td>0</td>\n",
       "      <td>1</td>\n",
       "      <td>1</td>\n",
       "    </tr>\n",
       "    <tr>\n",
       "      <th>3339</th>\n",
       "      <td>2</td>\n",
       "      <td>1.0</td>\n",
       "      <td>NonResidential</td>\n",
       "      <td>Small- and Mid-Sized Office</td>\n",
       "      <td>47.53161</td>\n",
       "      <td>-122.29944</td>\n",
       "      <td>1920 - 1939</td>\n",
       "      <td>24990</td>\n",
       "      <td>0</td>\n",
       "      <td>24990</td>\n",
       "      <td>Office</td>\n",
       "      <td>24990.0</td>\n",
       "      <td>4.731814e+06</td>\n",
       "      <td>0</td>\n",
       "      <td>1</td>\n",
       "      <td>1</td>\n",
       "    </tr>\n",
       "    <tr>\n",
       "      <th>3347</th>\n",
       "      <td>3</td>\n",
       "      <td>1.0</td>\n",
       "      <td>NonResidential</td>\n",
       "      <td>K-12 School</td>\n",
       "      <td>47.58831</td>\n",
       "      <td>-122.30650</td>\n",
       "      <td>2000 - 2019</td>\n",
       "      <td>45000</td>\n",
       "      <td>0</td>\n",
       "      <td>45000</td>\n",
       "      <td>K-12 School</td>\n",
       "      <td>45728.0</td>\n",
       "      <td>1.397742e+06</td>\n",
       "      <td>0</td>\n",
       "      <td>1</td>\n",
       "      <td>0</td>\n",
       "    </tr>\n",
       "  </tbody>\n",
       "</table>\n",
       "<p>989 rows × 16 columns</p>\n",
       "</div>"
      ],
      "text/plain": [
       "      NumberofFloors  NumberofBuildings        BuildingType  \\\n",
       "0                 12                1.0      NonResidential   \n",
       "1                 11                1.0      NonResidential   \n",
       "2                 41                1.0      NonResidential   \n",
       "3                 10                1.0      NonResidential   \n",
       "4                 18                1.0      NonResidential   \n",
       "...              ...                ...                 ...   \n",
       "3329              13                1.0  Nonresidential COS   \n",
       "3337               4                1.0      NonResidential   \n",
       "3338               1                1.0      NonResidential   \n",
       "3339               2                1.0      NonResidential   \n",
       "3347               3                1.0      NonResidential   \n",
       "\n",
       "              PrimaryPropertyType  Latitude  Longitude    YearBuilt  \\\n",
       "0                           Hotel  47.61220 -122.33799  1920 - 1939   \n",
       "1                           Hotel  47.61317 -122.33393  1980 - 1999   \n",
       "2                           Hotel  47.61393 -122.33810  1960 - 1979   \n",
       "3                           Hotel  47.61412 -122.33664  1920 - 1939   \n",
       "4                           Hotel  47.61375 -122.34047  1980 - 1999   \n",
       "...                           ...       ...        ...          ...   \n",
       "3329                 Large Office  47.62251 -122.33390  2000 - 2019   \n",
       "3337                        Hotel  47.65476 -122.34732  2000 - 2019   \n",
       "3338                    Warehouse  47.54425 -122.31776  1940 - 1959   \n",
       "3339  Small- and Mid-Sized Office  47.53161 -122.29944  1920 - 1939   \n",
       "3347                  K-12 School  47.58831 -122.30650  2000 - 2019   \n",
       "\n",
       "      PropertyGFATotal  PropertyGFAParking  PropertyGFABuilding(s)  \\\n",
       "0                88434                   0                   88434   \n",
       "1               103566               15064                   88502   \n",
       "2               956110              196718                  759392   \n",
       "3                61320                   0                   61320   \n",
       "4               175580               62000                  113580   \n",
       "...                ...                 ...                     ...   \n",
       "3329            536697              197659                  339038   \n",
       "3337            126823               41539                   85284   \n",
       "3338             52085                4222                   47863   \n",
       "3339             24990                   0                   24990   \n",
       "3347             45000                   0                   45000   \n",
       "\n",
       "          LargestPropertyUseType  LargestPropertyUseTypeGFA  \\\n",
       "0                          Hotel                    88434.0   \n",
       "1                          Hotel                    83880.0   \n",
       "2                          Hotel                   756493.0   \n",
       "3                          Hotel                    61320.0   \n",
       "4                          Hotel                   123445.0   \n",
       "...                          ...                        ...   \n",
       "3329                      Office                   342838.0   \n",
       "3337                       Hotel                    88157.0   \n",
       "3338  Non-Refrigerated Warehouse                    52085.0   \n",
       "3339                      Office                    24990.0   \n",
       "3347                 K-12 School                    45728.0   \n",
       "\n",
       "      SiteEnergyUseWN(kBtu)  SteamUse(kBtu)  Electricity(kBtu)  \\\n",
       "0              7.456910e+06               1                  1   \n",
       "1              8.664479e+06               0                  1   \n",
       "2              7.393711e+07               1                  1   \n",
       "3              6.946800e+06               1                  1   \n",
       "4              1.465650e+07               0                  1   \n",
       "...                     ...             ...                ...   \n",
       "3329           1.403717e+07               0                  1   \n",
       "3337           6.042400e+06               0                  1   \n",
       "3338           4.182622e+06               0                  1   \n",
       "3339           4.731814e+06               0                  1   \n",
       "3347           1.397742e+06               0                  1   \n",
       "\n",
       "      NaturalGas(kBtu)  \n",
       "0                    1  \n",
       "1                    1  \n",
       "2                    1  \n",
       "3                    1  \n",
       "4                    1  \n",
       "...                ...  \n",
       "3329                 1  \n",
       "3337                 1  \n",
       "3338                 1  \n",
       "3339                 1  \n",
       "3347                 0  \n",
       "\n",
       "[989 rows x 16 columns]"
      ]
     },
     "execution_count": 53,
     "metadata": {},
     "output_type": "execute_result"
    }
   ],
   "source": [
    "dfP4STARWT=dfP4ENERGYSTAR\n",
    "dfP4STARWT.drop(['ENERGYSTARScore'], axis=1)"
   ]
  },
  {
   "cell_type": "code",
   "execution_count": 54,
   "id": "48026898",
   "metadata": {},
   "outputs": [],
   "source": [
    "dfP4STARWT= dfP4STARWT.drop(['ENERGYSTARScore'], axis=1)"
   ]
  },
  {
   "cell_type": "code",
   "execution_count": 55,
   "id": "c8b965ba",
   "metadata": {},
   "outputs": [
    {
     "data": {
      "text/plain": [
       "(989, 16)"
      ]
     },
     "execution_count": 55,
     "metadata": {},
     "output_type": "execute_result"
    }
   ],
   "source": [
    "dfP4STARWT.shape"
   ]
  },
  {
   "cell_type": "code",
   "execution_count": 56,
   "id": "199c7c0d",
   "metadata": {},
   "outputs": [],
   "source": [
    "dfP4STARWT.to_csv('P4ENERGYSTARSCOREWITHOUT.csv', index=False)"
   ]
  },
  {
   "cell_type": "code",
   "execution_count": null,
   "id": "c9b97449",
   "metadata": {},
   "outputs": [],
   "source": []
  },
  {
   "cell_type": "markdown",
   "id": "8b558ebe",
   "metadata": {},
   "source": [
    "### CO2_STARSCORE"
   ]
  },
  {
   "cell_type": "code",
   "execution_count": 57,
   "id": "5b594768",
   "metadata": {},
   "outputs": [],
   "source": [
    "dfP4CO2STAR=dfP4STAR[[ 'NumberofFloors','NumberofBuildings','BuildingType', 'PrimaryPropertyType','Latitude', 'Longitude', 'YearBuilt', 'PropertyGFATotal', 'PropertyGFAParking',\n",
    "       'PropertyGFABuilding(s)','LargestPropertyUseType', 'LargestPropertyUseTypeGFA','TotalGHGEmissions', 'SteamUse(kBtu)','Electricity(kBtu)',\n",
    "       'NaturalGas(kBtu)','ENERGYSTARScore']]"
   ]
  },
  {
   "cell_type": "code",
   "execution_count": 58,
   "id": "ec3aa60f",
   "metadata": {},
   "outputs": [
    {
     "data": {
      "text/plain": [
       "<AxesSubplot:xlabel='BuildingType', ylabel='TotalGHGEmissions'>"
      ]
     },
     "execution_count": 58,
     "metadata": {},
     "output_type": "execute_result"
    },
    {
     "data": {
      "image/png": "[encoded data removed]",
      "text/plain": [
       "<Figure size 640x480 with 1 Axes>"
      ]
     },
     "metadata": {},
     "output_type": "display_data"
    }
   ],
   "source": [
    "sns.boxplot(data=dfP4CO2STAR, y='TotalGHGEmissions',x='BuildingType')"
   ]
  },
  {
   "cell_type": "code",
   "execution_count": 59,
   "id": "e3dd136c",
   "metadata": {},
   "outputs": [],
   "source": [
    "dfP4CO2STAR =dfP4CO2STAR.loc[dfP4CO2STAR['TotalGHGEmissions'] < 10000.0,: ]   "
   ]
  },
  {
   "cell_type": "code",
   "execution_count": 60,
   "id": "b4103cc1",
   "metadata": {},
   "outputs": [
    {
     "data": {
      "text/plain": [
       "(1544, 17)"
      ]
     },
     "execution_count": 60,
     "metadata": {},
     "output_type": "execute_result"
    }
   ],
   "source": [
    "dfP4CO2STAR.shape"
   ]
  },
  {
   "cell_type": "code",
   "execution_count": 61,
   "id": "483e7b1c",
   "metadata": {},
   "outputs": [
    {
     "data": {
      "text/plain": [
       "NumberofFloors                 0\n",
       "NumberofBuildings              0\n",
       "BuildingType                   0\n",
       "PrimaryPropertyType            0\n",
       "Latitude                       0\n",
       "Longitude                      0\n",
       "YearBuilt                      0\n",
       "PropertyGFATotal               0\n",
       "PropertyGFAParking             0\n",
       "PropertyGFABuilding(s)         0\n",
       "LargestPropertyUseType         4\n",
       "LargestPropertyUseTypeGFA      4\n",
       "TotalGHGEmissions              0\n",
       "SteamUse(kBtu)                 0\n",
       "Electricity(kBtu)              0\n",
       "NaturalGas(kBtu)               0\n",
       "ENERGYSTARScore              550\n",
       "dtype: int64"
      ]
     },
     "execution_count": 61,
     "metadata": {},
     "output_type": "execute_result"
    }
   ],
   "source": [
    "dfP4CO2STAR.isnull().sum()"
   ]
  },
  {
   "cell_type": "code",
   "execution_count": 62,
   "id": "5b681471",
   "metadata": {},
   "outputs": [],
   "source": [
    "dfP4CO2STAR.dropna(axis=0, inplace=True)"
   ]
  },
  {
   "cell_type": "code",
   "execution_count": 63,
   "id": "49b12dd3",
   "metadata": {},
   "outputs": [
    {
     "data": {
      "text/plain": [
       "(992, 17)"
      ]
     },
     "execution_count": 63,
     "metadata": {},
     "output_type": "execute_result"
    }
   ],
   "source": [
    "dfP4CO2STAR.shape"
   ]
  },
  {
   "cell_type": "code",
   "execution_count": 64,
   "id": "e2cba807",
   "metadata": {},
   "outputs": [],
   "source": [
    "dfP4CO2STAR.to_csv('P4CO2STARSCORE.csv', index=False)\n"
   ]
  },
  {
   "cell_type": "markdown",
   "id": "af178b8b",
   "metadata": {},
   "source": [
    "### CO2 ENERGY STAR SCORE WITHOUT"
   ]
  },
  {
   "cell_type": "code",
   "execution_count": 65,
   "id": "9efd7351",
   "metadata": {},
   "outputs": [],
   "source": [
    "dfP4CO2STARWT = dfP4CO2STAR"
   ]
  },
  {
   "cell_type": "code",
   "execution_count": 66,
   "id": "511d88f6",
   "metadata": {},
   "outputs": [],
   "source": [
    "dfP4CO2STARWT=dfP4CO2STARWT.drop(['ENERGYSTARScore'], axis=1)"
   ]
  },
  {
   "cell_type": "code",
   "execution_count": 67,
   "id": "216aa8a9",
   "metadata": {},
   "outputs": [
    {
     "data": {
      "text/plain": [
       "(992, 16)"
      ]
     },
     "execution_count": 67,
     "metadata": {},
     "output_type": "execute_result"
    }
   ],
   "source": [
    "dfP4CO2STARWT.shape"
   ]
  },
  {
   "cell_type": "code",
   "execution_count": 68,
   "id": "17a8d844",
   "metadata": {},
   "outputs": [],
   "source": [
    "dfP4CO2STARWT.to_csv('P4CO2STARSCOREWITHOUT.csv', index=False)\n"
   ]
  },
  {
   "cell_type": "code",
   "execution_count": null,
   "id": "c80b4fc4",
   "metadata": {},
   "outputs": [],
   "source": []
  }
 ],
 "metadata": {
  "kernelspec": {
   "display_name": "Python 3 (ipykernel)",
   "language": "python",
   "name": "python3"
  },
  "language_info": {
   "codemirror_mode": {
    "name": "ipython",
    "version": 3
   },
   "file_extension": ".py",
   "mimetype": "text/x-python",
   "name": "python",
   "nbconvert_exporter": "python",
   "pygments_lexer": "ipython3",
   "version": "3.9.13"
  }
 },
 "nbformat": 4,
 "nbformat_minor": 5
}
